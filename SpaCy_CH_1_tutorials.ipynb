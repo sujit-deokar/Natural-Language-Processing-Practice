{
 "cells": [
  {
   "cell_type": "markdown",
   "metadata": {},
   "source": [
    "## Chapter 1: Finding words, phrases, names and concepts"
   ]
  },
  {
   "cell_type": "markdown",
   "metadata": {},
   "source": [
    "**Part 1: English**\n",
    "\n",
    "Import the English class from spacy.lang.en and create the nlp object.\n",
    "\n",
    "Create a doc and print its text."
   ]
  },
  {
   "cell_type": "code",
   "execution_count": 1,
   "metadata": {},
   "outputs": [
    {
     "name": "stdout",
     "output_type": "stream",
     "text": [
      "This is a sentence.\n"
     ]
    }
   ],
   "source": [
    "# Import the English language class\n",
    "from spacy.lang.en import English\n",
    "# Create the nlp object\n",
    "nlp = English()\n",
    "# Process a text\n",
    "doc = nlp(\"This is a sentence.\")\n",
    "# Print the document text\n",
    "print(doc.text)"
   ]
  },
  {
   "cell_type": "markdown",
   "metadata": {},
   "source": [
    "#### Part 2: German\n",
    "\n",
    "    Import the German class from spacy.lang.de and create the nlp object.\n",
    "    Create a doc and print its text."
   ]
  },
  {
   "cell_type": "code",
   "execution_count": 3,
   "metadata": {},
   "outputs": [
    {
     "name": "stdout",
     "output_type": "stream",
     "text": [
      "Liebe Grüße!\n"
     ]
    }
   ],
   "source": [
    "# Import the German language class\n",
    "from spacy.lang.de import German\n",
    "\n",
    "# Create the nlp object\n",
    "nlp = German()\n",
    "\n",
    "# Process a text (this is German for: \"Kind regards!\")\n",
    "doc = nlp(\"Liebe Grüße!\")\n",
    "\n",
    "# Print the document text\n",
    "print(doc.text)"
   ]
  },
  {
   "cell_type": "markdown",
   "metadata": {},
   "source": [
    "#### Part 3: Spanish\n",
    "\n",
    "    Import the Spanish class from spacy.lang.es and create the nlp object.\n",
    "    Create a doc and print its text."
   ]
  },
  {
   "cell_type": "code",
   "execution_count": 5,
   "metadata": {},
   "outputs": [
    {
     "name": "stdout",
     "output_type": "stream",
     "text": [
      "¿Cómo estás?\n"
     ]
    }
   ],
   "source": [
    "# Import the Spanish language class\n",
    "from spacy.lang.es import Spanish\n",
    "\n",
    "# Create the nlp object\n",
    "nlp = Spanish()\n",
    "\n",
    "# Process a text (this is Spanish for: \"How are you?\")\n",
    "doc = nlp(\"¿Cómo estás?\")\n",
    "\n",
    "# Print the document text\n",
    "print(doc.text)"
   ]
  },
  {
   "cell_type": "markdown",
   "metadata": {},
   "source": [
    "### Documents, Spans and Tokens"
   ]
  },
  {
   "cell_type": "raw",
   "metadata": {},
   "source": [
    "When you call nlp on a string, spaCy first tokenizes the text and creates a document object. In this exercise, you’ll learn more about the Doc, as well as its views Token and Span.\n",
    "Step 1\n",
    "    Import the English language class and create the nlp object.\n",
    "    Process the text and instantiate a Doc object in the variable doc.\n",
    "    Select the first token of the Doc and print its text"
   ]
  },
  {
   "cell_type": "code",
   "execution_count": 6,
   "metadata": {},
   "outputs": [
    {
     "name": "stdout",
     "output_type": "stream",
     "text": [
      "I\n"
     ]
    }
   ],
   "source": [
    "from spacy.lang.en import English\n",
    "\n",
    "nlp = English()\n",
    "\n",
    "# Process the text\n",
    "doc = nlp(\"I like tree kangaroos and narwhals.\")\n",
    "\n",
    "# Select the first token\n",
    "first_token = doc[0]\n",
    "\n",
    "# Print the first token's text\n",
    "print(first_token.text)"
   ]
  },
  {
   "cell_type": "markdown",
   "metadata": {},
   "source": [
    "**Step 2:**\n",
    "\n",
    "    Import the English language class and create the nlp object.\n",
    "    Process the text and instantiate a Doc object in the variable doc.\n",
    "    Create a slice of the Doc for the tokens “tree kangaroos” and “tree kangaroos and narwhals”."
   ]
  },
  {
   "cell_type": "code",
   "execution_count": 15,
   "metadata": {},
   "outputs": [
    {
     "name": "stdout",
     "output_type": "stream",
     "text": [
      "tree kangaroos\n",
      "tree kangaroos and narwhals\n"
     ]
    }
   ],
   "source": [
    "# Import the English language class and create the nlp object\n",
    "from spacy.lang.en import English\n",
    "\n",
    "nlp = English()\n",
    "\n",
    "# Process the text\n",
    "doc = nlp(\"I like tree kangaroos and narwhals.\")\n",
    "\n",
    "# A slice of the Doc for \"tree kangaroos\"\n",
    "tree_kangaroos = doc[2:4]\n",
    "print(tree_kangaroos.text)\n",
    "\n",
    "# A slice of the Doc for \"tree kangaroos and narwhals\" (without the \".\")\n",
    "tree_kangaroos_and_narwhals = doc[2:-1]\n",
    "print(tree_kangaroos_and_narwhals.text)"
   ]
  },
  {
   "cell_type": "markdown",
   "metadata": {},
   "source": [
    "### Lexical Attributes\n",
    "\n",
    "In this example, you’ll use spaCy’s Doc and Token objects, and lexical attributes to find percentages in a text. You’ll be looking for two subsequent tokens: a number and a percent sign.\n",
    "\n",
    "    1. Use the like_num token attribute to check whether a token in the doc resembles a number.\n",
    "    2. Get the token following the current token in the document. The index of the next token in the doc is token.i + 1.\n",
    "    3. Check whether the next token’s text attribute is a percent sign ”%“."
   ]
  },
  {
   "cell_type": "code",
   "execution_count": 14,
   "metadata": {},
   "outputs": [
    {
     "name": "stdout",
     "output_type": "stream",
     "text": [
      "Percentage found: 60\n",
      "Percentage found: 4\n"
     ]
    }
   ],
   "source": [
    "from spacy.lang.en import English\n",
    "\n",
    "nlp = English()\n",
    "\n",
    "# Process the text\n",
    "doc = nlp(\n",
    "    \"In 1990, more than 60% of people in East Asia were in extreme poverty. \"\n",
    "    \"Now less than 4% are.\"\n",
    ")\n",
    "\n",
    "# Iterate over the tokens in the doc\n",
    "for token in doc:\n",
    "    # Check if the token resembles a number\n",
    "    if token.like_num:\n",
    "        # Get the next token in the document\n",
    "        next_token = doc[token.i+1]\n",
    "        # Check if the next token's text equals '%'\n",
    "        if next_token.text == \"%\":\n",
    "            print(\"Percentage found:\", token.text)"
   ]
  },
  {
   "cell_type": "markdown",
   "metadata": {},
   "source": [
    "### Statistical Models\n",
    "\n",
    "Enable spaCy to predict linguistic attributes in context\n",
    "    \n",
    "    Part-of-speech tags\n",
    "    Syntactic dependencies\n",
    "    Named entities\n",
    "\n",
    "Trained on labeled example texts\n",
    "    \n",
    "    Can be updated with more examples to fine-tune predictions\n",
    "    \n",
    "### Model Packages:\n",
    "\n",
    "    $ python -m spacy download en_core_web_sm\n",
    "    import spacy\n",
    "\n",
    "    nlp = spacy.load('en_core_web_sm')\n",
    "        1. Binary weights\n",
    "        2. Vocabulary\n",
    "        3. Meta information (language, pipeline)\n",
    "    \n",
    "### Predicting Part of Speech:\n",
    "    \n",
    "    import spacy\n",
    "\n",
    "    # Load the small English model\n",
    "    nlp = spacy.load('en_core_web_sm')\n",
    "\n",
    "    # Process a text\n",
    "    doc = nlp(\"She ate the pizza\")\n",
    "\n",
    "    # Iterate over the tokens\n",
    "    for token in doc:\n",
    "        # Print the text and the predicted part-of-speech tag\n",
    "        print(token.text, token.pos_)\n",
    "        \n",
    "### Predicting Syntactic Dependencies\n",
    "\n",
    "    for token in doc:\n",
    "        print(token.text, token.pos_, token.dep_, token.head.text\n",
    "\n",
    "<img src=\"dep_example.png\">\n",
    "<table align='center'>\n",
    "<tr>\n",
    "<b><td align='center'><b>Label</b></td>\t<td align='center'><b>Description</b></td>\t<td align='center'><b>Example</b></td>\n",
    "</tr>\n",
    "<tr>\n",
    "<td align='center'>nsubj</td>\t<td align='center'>nominal subject</td>\t<td align='center'>She</td>\n",
    "</tr>\n",
    "<tr>\n",
    "<td align='center'>dobj</td>\t<td align='center'>direct object</td>\t<td align='center'>pizza</td>\n",
    "</tr>\n",
    "<tr>\n",
    "<td align='center'>det</td>\t<td align='center'>determiner (article)</td align='center'>\t<td>the</td>\n",
    "</tr>\n",
    "</table>\n",
    "\n",
    "\n",
    "### Predicting Named Entities\n",
    "\n",
    "    # Process a text\n",
    "    doc = nlp(u\"Apple is looking at buying U.K. startup for $1 billion\")\n",
    "\n",
    "    # Iterate over the predicted entities\n",
    "    for ent in doc.ents:\n",
    "        # Print the entity text and its label\n",
    "        print(ent.text, ent.label_)\n",
    "\n",
    "### Tip: the explain method\n",
    "\n",
    "Get quick definitions of the most common tags and labels.\n",
    "\n",
    "    spacy.explain('GPE')\n",
    "    >>>'Countries, cities, states'\n",
    "    \n",
    "    spacy.explain('NNP')\n",
    "    >>>'noun, proper singular'\n",
    "    \n",
    "    spacy.explain('dobj')\n",
    "    >>>'direct object'\n",
    "\n",
    "## Let's practice!"
   ]
  },
  {
   "cell_type": "markdown",
   "metadata": {},
   "source": [
    "### Loading Packages:\n",
    "\n",
    "The models we’re using in this course are already pre-installed. For more details on spaCy’s statistical models and how to install them on your machine, see the documentation.\n",
    "\n",
    "    Use spacy.load to load the small English model 'en_core_web_sm'.\n",
    "    Process the text and print the document text."
   ]
  },
  {
   "cell_type": "code",
   "execution_count": 15,
   "metadata": {},
   "outputs": [
    {
     "name": "stdout",
     "output_type": "stream",
     "text": [
      "It’s official: Apple is the first U.S. public company to reach a $1 trillion market value\n"
     ]
    }
   ],
   "source": [
    "import spacy\n",
    "\n",
    "# Load the 'en_core_web_sm' model\n",
    "nlp = spacy.load('en_core_web_sm')\n",
    "\n",
    "text = \"It’s official: Apple is the first U.S. public company to reach a $1 trillion market value\"\n",
    "\n",
    "# Process the text\n",
    "doc = nlp(text)\n",
    "\n",
    "# Print the document text\n",
    "print(doc.text)"
   ]
  },
  {
   "cell_type": "markdown",
   "metadata": {},
   "source": [
    "### Predicting linguistic annotations\n",
    "\n",
    "You’ll now get to try one of spaCy’s pre-trained model packages and see its predictions in action. Feel free to try it out on your own text! To find out what a tag or label means, you can call spacy.explain in the loop. For example: spacy.explain('PROPN') or spacy.explain('GPE').\n",
    "\n",
    "#### Part 1\n",
    "\n",
    "   1. Process the text with the nlp object and create a doc.\n",
    "   2. For each token, print the <code>token text</code>, the <code>token’s .pos_</code> (part-of-speech tag) and the <code>token’s .dep_</code> (dependency label)."
   ]
  },
  {
   "cell_type": "code",
   "execution_count": 16,
   "metadata": {},
   "outputs": [
    {
     "name": "stdout",
     "output_type": "stream",
     "text": [
      "It          PRON      nsubj     \n",
      "’s          PROPN     ROOT      \n",
      "official    NOUN      acomp     \n",
      ":           PUNCT     punct     \n",
      "Apple       PROPN     nsubj     \n",
      "is          VERB      ROOT      \n",
      "the         DET       det       \n",
      "first       ADJ       amod      \n",
      "U.S.        PROPN     nmod      \n",
      "public      ADJ       amod      \n",
      "company     NOUN      attr      \n",
      "to          PART      aux       \n",
      "reach       VERB      relcl     \n",
      "a           DET       det       \n",
      "$           SYM       quantmod  \n",
      "1           NUM       compound  \n",
      "trillion    NUM       nummod    \n",
      "market      NOUN      compound  \n",
      "value       NOUN      dobj      \n"
     ]
    }
   ],
   "source": [
    "import spacy\n",
    "\n",
    "nlp = spacy.load(\"en_core_web_sm\")\n",
    "\n",
    "text = \"It’s official: Apple is the first U.S. public company to reach a $1 trillion market value\"\n",
    "\n",
    "# Process the text\n",
    "doc = nlp(text)\n",
    "\n",
    "for token in doc:\n",
    "    # Get the token text, part-of-speech tag and dependency label\n",
    "    token_text = token.text\n",
    "    token_pos = token.pos_\n",
    "    token_dep = token.dep_\n",
    "    # This is for formatting only\n",
    "    print(\"{:<12}{:<10}{:<10}\".format(token_text, token_pos, token_dep))"
   ]
  },
  {
   "cell_type": "markdown",
   "metadata": {},
   "source": [
    "#### Part 2\n",
    "\n",
    "   1. Process the text and create a <code>doc</code> object.\n",
    "   2. Iterate over the <code>doc.ents</code> and print the entity text and <code>label_ </code>attribute."
   ]
  },
  {
   "cell_type": "code",
   "execution_count": 18,
   "metadata": {},
   "outputs": [
    {
     "name": "stdout",
     "output_type": "stream",
     "text": [
      "Apple ORG\n",
      "first ORDINAL\n",
      "U.S. GPE\n",
      "$1 trillion MONEY\n"
     ]
    }
   ],
   "source": [
    "import spacy\n",
    "\n",
    "nlp = spacy.load(\"en_core_web_sm\")\n",
    "\n",
    "text = \"It’s official: Apple is the first U.S. public company to reach a $1 trillion market value\"\n",
    "\n",
    "# Process the text\n",
    "doc = nlp(text)\n",
    "\n",
    "# Iterate over the predicted entities\n",
    "for ent in doc.ents:\n",
    "    # Print the entity text and its label\n",
    "    print(ent.text, ent.label_)"
   ]
  },
  {
   "cell_type": "markdown",
   "metadata": {},
   "source": [
    "### Predicting named entities in context\n",
    "\n",
    "Models are statistical and not always right. Whether their predictions are correct depends on the training data and the text you’re processing. Let’s take a look at an example.\n",
    "\n",
    "   1. Process the text with the <code>nlp</code> object.\n",
    "   2. Iterate over the entities and print the entity text and label.\n",
    "   3. Looks like the model didn’t predict “iPhone X”. Create a span for those tokens manually."
   ]
  },
  {
   "cell_type": "code",
   "execution_count": 20,
   "metadata": {},
   "outputs": [
    {
     "name": "stdout",
     "output_type": "stream",
     "text": [
      "Apple ORG\n",
      "Missing entity: iPhone X\n"
     ]
    }
   ],
   "source": [
    "import spacy\n",
    "\n",
    "nlp = spacy.load(\"en_core_web_sm\")\n",
    "\n",
    "text = \"New iPhone X release date leaked as Apple reveals pre-orders by mistake\"\n",
    "\n",
    "# Process the text\n",
    "doc = nlp(text)\n",
    "\n",
    "# Iterate over the entities\n",
    "for ent in doc.ents:\n",
    "    # Print the entity text and label\n",
    "    print(ent.text, ent.label_)\n",
    "\n",
    "# Get the span for \"iPhone X\"\n",
    "iphone_x = doc[1:3]\n",
    "\n",
    "# Print the span text\n",
    "print(\"Missing entity:\", iphone_x.text)"
   ]
  },
  {
   "cell_type": "markdown",
   "metadata": {},
   "source": [
    "## Rule-based matching\n",
    "\n",
    "Why not just regular expressions?\n",
    "    \n",
    "    Match on Doc objects, not just strings\n",
    "    Match on tokens and token attributes\n",
    "    Use the model's predictions\n",
    "    Example: \"duck\" (verb) vs. \"duck\" (noun)\n",
    "\n",
    "Match patterns\n",
    "Lists of dictionaries, one per token\n",
    "\n",
    "Match exact token texts\n",
    "\n",
    "<code>\n",
    "    [{'TEXT': 'iPhone'}, {'TEXT': 'X'}]\n",
    "\n",
    "    Match lexical attributes\n",
    "</code>\n",
    "<code>\n",
    "    [{'LOWER': 'iphone'}, {'LOWER': 'x'}]\n",
    "</code>\n",
    "\n",
    "    Match any token attributes\n",
    "<code>\n",
    "    [{'LEMMA': 'buy'}, {'POS': 'NOUN'}]\n",
    "</code>\n",
    "\n",
    "Using the Matcher (1)\n",
    "\n",
    "<code>\n",
    "    import spacy\n",
    "</code>\n",
    "<code>\n",
    "    # Import the Matcher\n",
    "    from spacy.matcher import Matcher\n",
    "</code>\n",
    "<code>\n",
    "    # Load a model and create the nlp object\n",
    "    nlp = spacy.load('en_core_web_sm')\n",
    "</code>\n",
    "<code>\n",
    "    # Initialize the matcher with the shared vocab\n",
    "    matcher = Matcher(nlp.vocab)\n",
    "</code>\n",
    "<code>\n",
    "    # Add the pattern to the matcher\n",
    "    pattern = [{'TEXT': 'iPhone'}, {'TEXT': 'X'}]\n",
    "    matcher.add('IPHONE_PATTERN', None, pattern)\n",
    "</code>\n",
    "<code>\n",
    "    # Process some text\n",
    "    doc = nlp(\"New iPhone X release date leaked\")\n",
    "</code>\n",
    "<code>\n",
    "    # Call the matcher on the doc\n",
    "    matches = matcher(doc)\n",
    "</code>"
   ]
  },
  {
   "cell_type": "markdown",
   "metadata": {},
   "source": [
    "### Using the Matcher (2)\n",
    "<code>\n",
    "    # Call the matcher on the doc\n",
    "    doc = nlp(\"New iPhone X release date leaked\")\n",
    "    matches = matcher(doc)\n",
    "    # Iterate over the matches\n",
    "    for match_id, start, end in matches:\n",
    "        # Get the matched span\n",
    "        matched_span = doc[start:end]\n",
    "        print(matched_span.text)\n",
    "    >>> iPhone X\n",
    "    match_id: hash value of the pattern name\n",
    "    start: start index of matched span\n",
    "    end: end index of matched span\n",
    "</code>\n",
    "\n",
    "### Matching lexical attributes\n",
    "<code>\n",
    "pattern = [\n",
    "    {'IS_DIGIT': True},\n",
    "    {'LOWER': 'fifa'},\n",
    "    {'LOWER': 'world'},\n",
    "    {'LOWER': 'cup'},\n",
    "    {'IS_PUNCT': True}\n",
    "]\n",
    "doc = nlp(\"2018 FIFA World Cup: France won!\")\n",
    ">>>2018 FIFA World Cup:\n",
    "</code>\n",
    "\n",
    "### Matching other token attributes\n",
    "<code>\n",
    "pattern = [\n",
    "    {'LEMMA': 'love', 'POS': 'VERB'},\n",
    "    {'POS': 'NOUN'}\n",
    "]\n",
    "doc = nlp(\"I loved dogs but now I love cats more.\")\n",
    "loved dogs\n",
    "love cats\n",
    "</code>\n",
    "\n",
    "### Using operators and quantifiers (1)\n",
    "<code>\n",
    "pattern = [\n",
    "    {'LEMMA': 'buy'},\n",
    "    {'POS': 'DET', 'OP': '?'},  # optional: match 0 or 1 times\n",
    "    {'POS': 'NOUN'}\n",
    "]\n",
    "doc = nlp(\"I bought a smartphone. Now I'm buying apps.\")\n",
    "bought a smartphone\n",
    "buying apps\n",
    "</code>\n",
    "\n",
    "Using operators and quantifiers (2)\n",
    "\n",
    "|Example\t|Description                     |\n",
    "|-----------|--------------------------------|\n",
    "|{'OP': '!'}|\tNegation: match 0 times      |\n",
    "|{'OP': '?'}|\tOptional: match 0 or 1 times |\n",
    "|{'OP': '+'}|\tMatch 1 or more times        |\n",
    "|{'OP': '*'}|\tMatch 0 or more times        |\n",
    "\n",
    "## Let's practice!\n"
   ]
  },
  {
   "cell_type": "markdown",
   "metadata": {},
   "source": [
    "### Using the Matcher\n",
    "\n",
    "Let’s try spaCy’s rule-based Matcher. You’ll be using the example from the previous exercise and write a pattern that can match the phrase “iPhone X” in the text.\n",
    "\n",
    "    1.Import the Matcher from spacy.matcher.\n",
    "    2.Initialize it with the nlp object’s shared vocab.\n",
    "    3.Create a pattern that matches the 'TEXT' values of two tokens: \"iPhone\" and \"X\".\n",
    "    4.Use the matcher.add method to add the pattern to the matcher.\n",
    "    5.Call the matcher on the doc and store the result in the variable matches.\n",
    "    6.Iterate over the matches and get the matched span from the start to the end index."
   ]
  },
  {
   "cell_type": "code",
   "execution_count": 25,
   "metadata": {},
   "outputs": [
    {
     "name": "stdout",
     "output_type": "stream",
     "text": [
      "Matches: ['iPhone X']\n"
     ]
    }
   ],
   "source": [
    "import spacy\n",
    "\n",
    "# Import the Matcher\n",
    "from spacy.matcher import Matcher\n",
    "\n",
    "nlp = spacy.load(\"en_core_web_sm\")\n",
    "doc = nlp(\"New iPhone X release date leaked as Apple reveals pre-orders by mistake\")\n",
    "\n",
    "# Initialize the Matcher with the shared vocabulary\n",
    "matcher = Matcher(nlp.vocab)\n",
    "\n",
    "# Create a pattern matching two tokens: \"iPhone\" and \"X\"\n",
    "pattern = [{'TEXT':'iPhone'},{'TEXT':'X'}]\n",
    "\n",
    "# Add the pattern to the matcher\n",
    "matcher.add(\"IPHONE_X_PATTERN\", None, pattern)\n",
    "\n",
    "# Use the matcher on the doc\n",
    "matches = matcher(doc)\n",
    "print(\"Matches:\", [doc[start:end].text for match_id, start, end in matches])"
   ]
  },
  {
   "cell_type": "markdown",
   "metadata": {},
   "source": [
    "### Writing Match Patterns:\n",
    "    \n",
    "In this exercise, you’ll practice writing more complex match patterns using different token attributes and operators.\n",
    "\n",
    "#### Part 1\n",
    "\n",
    "    Write one pattern that only matches mentions of the full iOS versions: “iOS 7”, “iOS 11” and “iOS 10”."
   ]
  },
  {
   "cell_type": "code",
   "execution_count": 3,
   "metadata": {},
   "outputs": [
    {
     "name": "stdout",
     "output_type": "stream",
     "text": [
      "Total matches found: 3\n",
      "Match found: iOS 7\n",
      "Match found: iOS 11\n",
      "Match found: iOS 10\n"
     ]
    }
   ],
   "source": [
    "import spacy\n",
    "from spacy.matcher import Matcher\n",
    "\n",
    "nlp = spacy.load(\"en_core_web_sm\")\n",
    "matcher = Matcher(nlp.vocab)\n",
    "\n",
    "doc = nlp(\n",
    "    \"After making the iOS update you won't notice a radical system-wide \"\n",
    "    \"redesign: nothing like the aesthetic upheaval we got with iOS 7. Most of \"\n",
    "    \"iOS 11's furniture remains the same as in iOS 10. But you will discover \"\n",
    "    \"some tweaks once you delve a little deeper.\"\n",
    ")\n",
    "\n",
    "# Write a pattern for full iOS versions (\"iOS 7\", \"iOS 11\", \"iOS 10\")\n",
    "pattern = [{\"TEXT\": 'iOS'}, {\"IS_DIGIT\": True}]\n",
    "\n",
    "# Add the pattern to the matcher and apply the matcher to the doc\n",
    "matcher.add(\"IOS_VERSION_PATTERN\", None, pattern)\n",
    "matches = matcher(doc)\n",
    "print(\"Total matches found:\", len(matches))\n",
    "\n",
    "# Iterate over the matches and print the span text\n",
    "for match_id, start, end in matches:\n",
    "    print(\"Match found:\", doc[start:end].text)"
   ]
  },
  {
   "cell_type": "markdown",
   "metadata": {},
   "source": [
    "#### Part 2\n",
    "\n",
    "Write one pattern that only matches forms of “download” (tokens with the lemma “download”), followed by a token with the part-of-speech tag 'PROPN' (proper noun)."
   ]
  },
  {
   "cell_type": "code",
   "execution_count": 7,
   "metadata": {},
   "outputs": [
    {
     "name": "stdout",
     "output_type": "stream",
     "text": [
      "Total matches found: 3\n",
      "Match found: downloaded Fortnite\n",
      "Match found: downloading Minecraft\n",
      "Match found: download Winzip\n"
     ]
    }
   ],
   "source": [
    "import spacy\n",
    "from spacy.matcher import Matcher\n",
    "\n",
    "nlp = spacy.load(\"en_core_web_sm\")\n",
    "matcher = Matcher(nlp.vocab)\n",
    "\n",
    "doc = nlp(\n",
    "    \"i downloaded Fortnite on my laptop and can't open the game at all. Help? \"\n",
    "    \"so when I was downloading Minecraft, I got the Windows version where it \"\n",
    "    \"is the '.zip' folder and I used the default program to unpack it... do \"\n",
    "    \"I also need to download Winzip?\"\n",
    ")\n",
    "\n",
    "# Write a pattern that matches a form of \"download\" plus proper noun\n",
    "pattern = [{\"LEMMA\": 'download'}, {\"POS\": 'PROPN'}]\n",
    "\n",
    "# Add the pattern to the matcher and apply the matcher to the doc\n",
    "matcher.add(\"DOWNLOAD_THINGS_PATTERN\", None, pattern)\n",
    "matches = matcher(doc)\n",
    "print(\"Total matches found:\", len(matches))\n",
    "\n",
    "# Iterate over the matches and print the span text\n",
    "for match_id, start, end in matches:\n",
    "    print(\"Match found:\", doc[start:end].text)"
   ]
  },
  {
   "cell_type": "markdown",
   "metadata": {},
   "source": [
    "#### Part 3\n",
    "\n",
    "Write one pattern that matches adjectives ('ADJ') followed by one or two 'NOUN's (one noun and one optional noun)."
   ]
  },
  {
   "cell_type": "code",
   "execution_count": 8,
   "metadata": {},
   "outputs": [
    {
     "name": "stdout",
     "output_type": "stream",
     "text": [
      "Total matches found: 4\n",
      "Match found: beautiful design\n",
      "Match found: smart search\n",
      "Match found: automatic labels\n",
      "Match found: optional voice responses\n"
     ]
    }
   ],
   "source": [
    "import spacy\n",
    "from spacy.matcher import Matcher\n",
    "\n",
    "nlp = spacy.load(\"en_core_web_sm\")\n",
    "matcher = Matcher(nlp.vocab)\n",
    "\n",
    "doc = nlp(\n",
    "    \"Features of the app include a beautiful design, smart search, automatic \"\n",
    "    \"labels and optional voice responses.\"\n",
    ")\n",
    "\n",
    "# Write a pattern for adjective plus one or two nouns\n",
    "pattern = [{\"POS\": 'ADJ'}, {\"POS\": 'NOUN'}, {\"POS\": 'NOUN', \"OP\": '?'}]\n",
    "\n",
    "# Add the pattern to the matcher and apply the matcher to the doc\n",
    "matcher.add(\"ADJ_NOUN_PATTERN\", None, pattern)\n",
    "matches = matcher(doc)\n",
    "print(\"Total matches found:\", len(matches))\n",
    "\n",
    "# Iterate over the matches and print the span text\n",
    "for match_id, start, end in matches:\n",
    "    print(\"Match found:\", doc[start:end].text)"
   ]
  },
  {
   "cell_type": "markdown",
   "metadata": {},
   "source": [
    "### CHAPTER 1 COMPLETE"
   ]
  },
  {
   "cell_type": "code",
   "execution_count": null,
   "metadata": {},
   "outputs": [],
   "source": []
  }
 ],
 "metadata": {
  "kernelspec": {
   "display_name": "Python 3",
   "language": "python",
   "name": "python3"
  },
  "language_info": {
   "codemirror_mode": {
    "name": "ipython",
    "version": 3
   },
   "file_extension": ".py",
   "mimetype": "text/x-python",
   "name": "python",
   "nbconvert_exporter": "python",
   "pygments_lexer": "ipython3",
   "version": "3.6.6"
  }
 },
 "nbformat": 4,
 "nbformat_minor": 2
}
