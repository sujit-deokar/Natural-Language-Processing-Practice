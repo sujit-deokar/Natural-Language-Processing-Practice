{
 "cells": [
  {
   "cell_type": "markdown",
   "metadata": {},
   "source": [
    "## Easily Scrape and Summarize News Articles Using Python"
   ]
  },
  {
   "cell_type": "markdown",
   "metadata": {},
   "source": [
    "We’ll scrape an example article using the requests and BeautifulSoup packages, then we’ll summarize it using the excellent gensim library."
   ]
  },
  {
   "cell_type": "code",
   "execution_count": 14,
   "metadata": {},
   "outputs": [],
   "source": [
    "import requests\n",
    "from bs4 import BeautifulSoup\n",
    "from gensim.summarization import summarize"
   ]
  },
  {
   "cell_type": "markdown",
   "metadata": {},
   "source": [
    "Now that we have an article, we’ll retrieve its content:"
   ]
  },
  {
   "cell_type": "code",
   "execution_count": 15,
   "metadata": {},
   "outputs": [],
   "source": [
    "# Retrieve page text\n",
    "url = 'http://www.vit.edu/index.php/institute/director-s-message'\n",
    "page = requests.get(url).text"
   ]
  },
  {
   "cell_type": "markdown",
   "metadata": {},
   "source": [
    "### Webscraping:"
   ]
  },
  {
   "cell_type": "markdown",
   "metadata": {},
   "source": [
    "First, we’ll turn the page content into a BeautifulSoup object, which will allow us to parse the HTML tags."
   ]
  },
  {
   "cell_type": "code",
   "execution_count": 16,
   "metadata": {},
   "outputs": [],
   "source": [
    "# Turn page into BeautifulSoup object to access HTML tags\n",
    "soup = BeautifulSoup(page)"
   ]
  },
  {
   "cell_type": "markdown",
   "metadata": {},
   "source": [
    "Then, we’ll need to figure out which HTML tags contain the headline and the main text of the article."
   ]
  },
  {
   "cell_type": "raw",
   "metadata": {},
   "source": [
    "The headline of the article is surrounded by the <h1> tag. We’ll select the first <h1> tag on the page like this:"
   ]
  },
  {
   "cell_type": "code",
   "execution_count": 17,
   "metadata": {},
   "outputs": [],
   "source": [
    "# Get headline\n",
    "headline = soup.find('h2').get_text()"
   ]
  },
  {
   "cell_type": "raw",
   "metadata": {},
   "source": [
    "The main text of the article is surrounded by the <p> tag. This time we’ll have to find all of the <p> tags contained on the page since the paragraphs of the article are each contained in a <p> tag."
   ]
  },
  {
   "cell_type": "code",
   "execution_count": 18,
   "metadata": {},
   "outputs": [],
   "source": [
    "# Get text from all <p> tags.\n",
    "p_tags = soup.find_all('p')\n",
    "# Get the text from each of the “p” tags and strip surrounding whitespace.\n",
    "p_tags_text = [tag.get_text().strip() for tag in p_tags]"
   ]
  },
  {
   "cell_type": "markdown",
   "metadata": {},
   "source": [
    "n this article, the image captions contain the newline ‘\\n’ character to add whitespace around them. Since we know that an actual sentence from the article wouldn’t have a random line break, we can safely drop these. \n",
    "\n",
    "Similarly, we can drop out bits of text that don’t contain a period, since we know any proper sentence in an article would contain a period. That will drop out the author’s name and some other irrelevant bits."
   ]
  },
  {
   "cell_type": "code",
   "execution_count": 19,
   "metadata": {},
   "outputs": [],
   "source": [
    "# Filter out sentences that contain newline characters '\\n' or don't contain periods.\n",
    "sentence_list = [sentence for sentence in p_tags_text if not '\\n' in sentence]\n",
    "sentence_list = [sentence for sentence in sentence_list if '.' in sentence]\n",
    "# Combine list items into string.\n",
    "article = ' '.join(sentence_list)"
   ]
  },
  {
   "cell_type": "markdown",
   "metadata": {},
   "source": [
    "### Summarization:"
   ]
  },
  {
   "cell_type": "markdown",
   "metadata": {},
   "source": [
    "Gensim is an excellent Python package for a variety of NLP tasks. It includes a fairly robust summarization function that is easy to use. It’s a variation of the TextRank algorithm. And as you’ll see, we can use it in one line of code:"
   ]
  },
  {
   "cell_type": "code",
   "execution_count": 20,
   "metadata": {},
   "outputs": [],
   "source": [
    "summary = summarize(article, ratio=0.3)"
   ]
  },
  {
   "cell_type": "code",
   "execution_count": 21,
   "metadata": {},
   "outputs": [
    {
     "name": "stdout",
     "output_type": "stream",
     "text": [
      "Length of original document: 2448\n",
      "Length of summery: 1048\n",
      "\n",
      "Headline: Director's Message\n",
      "\n",
      "Artical Summary: \n",
      " Vishwakarma Institute of Technology, Pune, was established in year 1983 by Bansilal Ramnath Agarwal Charitable Trust.\n",
      "It is offering U.G., P.G., Ph.D. programmes of University of Pune in almost all major branches like Mechanical, Computer, E&TC, Chemical, Instrumentation and Industrial Engineering.\n",
      "For this the Institute has introduced Honors / Minor Streams, General Proficiency Courses, Professional Development Courses, Skill Development Courses, Semester Project, Open Electives (which include Psychology, Sociology, Philosophy, Economics, etc.) and Soft skills as a part of the Curriculum.\n",
      "The Institute has established academic collaboration, collaborative research, student exchange, Global Internship program with various foreign Universities of repute like Binghamton University from U.S.A, Nanyang Technological University in Singapore, Purdue University U.S.A., Hof University in Germany, a group of 17 Universities from State of Ontario in Canada, Group des Ecoles des Mines, France and Asian Institute of Technology based in Bangkok.\n"
     ]
    }
   ],
   "source": [
    "print(f'Length of original document: {len(article)}')\n",
    "print(f'Length of summery: {len(summary)}\\n')\n",
    "print(f'Headline: {headline}\\n')\n",
    "print(f'Artical Summary: \\n {summary}')"
   ]
  },
  {
   "cell_type": "code",
   "execution_count": null,
   "metadata": {},
   "outputs": [],
   "source": []
  }
 ],
 "metadata": {
  "kernelspec": {
   "display_name": "Python 3",
   "language": "python",
   "name": "python3"
  },
  "language_info": {
   "codemirror_mode": {
    "name": "ipython",
    "version": 3
   },
   "file_extension": ".py",
   "mimetype": "text/x-python",
   "name": "python",
   "nbconvert_exporter": "python",
   "pygments_lexer": "ipython3",
   "version": "3.6.6"
  }
 },
 "nbformat": 4,
 "nbformat_minor": 2
}
